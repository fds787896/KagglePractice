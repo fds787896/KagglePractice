{
  "cells": [
    {
      "cell_type": "markdown",
      "metadata": {
        "id": "view-in-github",
        "colab_type": "text"
      },
      "source": [
        "<a href=\"https://colab.research.google.com/github/fds787896/KagglePractice/blob/master/Titanic.ipynb\" target=\"_parent\"><img src=\"https://colab.research.google.com/assets/colab-badge.svg\" alt=\"Open In Colab\"/></a>"
      ]
    },
    {
      "cell_type": "markdown",
      "metadata": {
        "id": "5oFQ6nMY8DYX"
      },
      "source": [
        ""
      ]
    },
    {
      "cell_type": "code",
      "source": [
        "###前情提要:此Code必沒有按照Design Pattern去撰寫,Scope皆使用Gobal Variables。\n",
        "#因為在資料的處理方面,並無重複的步驟,因此放棄使用Static與Object的概念\n",
        "#此外,因為步驟並無重複性,且變數的運用有連續性,故若使用Design Pattern撰寫,並不會讓程式碼的可讀性增加,本篇code亦無擴展性的需求\n",
        "#基於上述理由,放棄使用Design Pattern的撰寫模式"
      ],
      "metadata": {
        "id": "GdlXp9_BnYkY"
      },
      "execution_count": null,
      "outputs": []
    },
    {
      "cell_type": "code",
      "execution_count": null,
      "metadata": {
        "colab": {
          "base_uri": "https://localhost:8080/"
        },
        "id": "2FljyMMJBsNM",
        "outputId": "4560749b-2b1a-4b37-d666-cf174b3d3f5f"
      },
      "outputs": [
        {
          "output_type": "stream",
          "name": "stdout",
          "text": [
            "Drive already mounted at /content/drive; to attempt to forcibly remount, call drive.mount(\"/content/drive\", force_remount=True).\n"
          ]
        }
      ],
      "source": [
        "#掛載google drive\n",
        "from google.colab import drive\n",
        "drive.mount('/content/drive')"
      ]
    },
    {
      "cell_type": "code",
      "execution_count": null,
      "metadata": {
        "colab": {
          "base_uri": "https://localhost:8080/"
        },
        "id": "y68S9OYREEjc",
        "outputId": "a5b9df65-8caf-43ff-bbbc-aecc1eee9161"
      },
      "outputs": [
        {
          "output_type": "stream",
          "name": "stdout",
          "text": [
            "/content/drive/MyDrive/Titanic\n"
          ]
        }
      ],
      "source": [
        "#轉至執行資料目錄\n",
        "%cd drive/MyDrive/Titanic/"
      ]
    },
    {
      "cell_type": "code",
      "execution_count": null,
      "metadata": {
        "id": "CzNvYp-57FyV"
      },
      "outputs": [],
      "source": [
        "#載入所需Packages\n",
        "import pandas as pd\n",
        "import numpy as np\n",
        "import random as rnd\n",
        "import seaborn as sns\n",
        "import matplotlib.pyplot as plt\n",
        "import collections\n",
        "from sklearn.linear_model import LogisticRegression\n",
        "from sklearn.svm import SVC, LinearSVC\n",
        "from sklearn.ensemble import RandomForestClassifier\n",
        "from sklearn.neighbors import KNeighborsClassifier\n",
        "from sklearn.naive_bayes import GaussianNB\n",
        "from sklearn.linear_model import Perceptron\n",
        "from sklearn.linear_model import SGDClassifier\n",
        "from sklearn.tree import DecisionTreeClassifier\n",
        "from sklearn.experimental import enable_iterative_imputer\n",
        "from sklearn.impute import IterativeImputer\n",
        "from sklearn.model_selection import KFold\n",
        "from sklearn.model_selection import cross_val_score\n",
        "from sklearn import preprocessing\n",
        "from sklearn.preprocessing import StandardScaler\n",
        "from sklearn.datasets import make_hastie_10_2\n",
        "from sklearn.ensemble import GradientBoostingClassifier\n",
        "from xgboost import XGBClassifier\n",
        "from sklearn.model_selection import GridSearchCV\n",
        "from sklearn.model_selection import RandomizedSearchCV\n",
        "from sklearn.model_selection import validation_curve\n",
        "import pickle"
      ]
    },
    {
      "cell_type": "code",
      "execution_count": null,
      "metadata": {
        "id": "4bn5-wtZ8WMa"
      },
      "outputs": [],
      "source": [
        "#讀取train還有test檔案\n",
        "train_df = pd.read_csv(\"train.csv\")\n",
        "test_df = pd.read_csv(\"test.csv\")\n",
        "combine = [train_df,test_df]"
      ]
    },
    {
      "cell_type": "code",
      "source": [
        "#瀏覽資料樣貌\n",
        "train_df.head()"
      ],
      "metadata": {
        "colab": {
          "base_uri": "https://localhost:8080/",
          "height": 250
        },
        "id": "-FgO-M4X7cfS",
        "outputId": "1e39b64a-d3b0-4629-9ece-fe3e9a24cf6d"
      },
      "execution_count": null,
      "outputs": [
        {
          "output_type": "execute_result",
          "data": {
            "text/html": [
              "\n",
              "  <div id=\"df-7f272a38-0ff3-4da1-9ed9-0b478e0b418e\">\n",
              "    <div class=\"colab-df-container\">\n",
              "      <div>\n",
              "<style scoped>\n",
              "    .dataframe tbody tr th:only-of-type {\n",
              "        vertical-align: middle;\n",
              "    }\n",
              "\n",
              "    .dataframe tbody tr th {\n",
              "        vertical-align: top;\n",
              "    }\n",
              "\n",
              "    .dataframe thead th {\n",
              "        text-align: right;\n",
              "    }\n",
              "</style>\n",
              "<table border=\"1\" class=\"dataframe\">\n",
              "  <thead>\n",
              "    <tr style=\"text-align: right;\">\n",
              "      <th></th>\n",
              "      <th>PassengerId</th>\n",
              "      <th>Survived</th>\n",
              "      <th>Pclass</th>\n",
              "      <th>Name</th>\n",
              "      <th>Sex</th>\n",
              "      <th>Age</th>\n",
              "      <th>SibSp</th>\n",
              "      <th>Parch</th>\n",
              "      <th>Ticket</th>\n",
              "      <th>Fare</th>\n",
              "      <th>Cabin</th>\n",
              "      <th>Embarked</th>\n",
              "    </tr>\n",
              "  </thead>\n",
              "  <tbody>\n",
              "    <tr>\n",
              "      <th>0</th>\n",
              "      <td>1</td>\n",
              "      <td>0</td>\n",
              "      <td>3</td>\n",
              "      <td>Braund, Mr. Owen Harris</td>\n",
              "      <td>male</td>\n",
              "      <td>22.0</td>\n",
              "      <td>1</td>\n",
              "      <td>0</td>\n",
              "      <td>A/5 21171</td>\n",
              "      <td>7.2500</td>\n",
              "      <td>NaN</td>\n",
              "      <td>S</td>\n",
              "    </tr>\n",
              "    <tr>\n",
              "      <th>1</th>\n",
              "      <td>2</td>\n",
              "      <td>1</td>\n",
              "      <td>1</td>\n",
              "      <td>Cumings, Mrs. John Bradley (Florence Briggs Th...</td>\n",
              "      <td>female</td>\n",
              "      <td>38.0</td>\n",
              "      <td>1</td>\n",
              "      <td>0</td>\n",
              "      <td>PC 17599</td>\n",
              "      <td>71.2833</td>\n",
              "      <td>C85</td>\n",
              "      <td>C</td>\n",
              "    </tr>\n",
              "    <tr>\n",
              "      <th>2</th>\n",
              "      <td>3</td>\n",
              "      <td>1</td>\n",
              "      <td>3</td>\n",
              "      <td>Heikkinen, Miss. Laina</td>\n",
              "      <td>female</td>\n",
              "      <td>26.0</td>\n",
              "      <td>0</td>\n",
              "      <td>0</td>\n",
              "      <td>STON/O2. 3101282</td>\n",
              "      <td>7.9250</td>\n",
              "      <td>NaN</td>\n",
              "      <td>S</td>\n",
              "    </tr>\n",
              "    <tr>\n",
              "      <th>3</th>\n",
              "      <td>4</td>\n",
              "      <td>1</td>\n",
              "      <td>1</td>\n",
              "      <td>Futrelle, Mrs. Jacques Heath (Lily May Peel)</td>\n",
              "      <td>female</td>\n",
              "      <td>35.0</td>\n",
              "      <td>1</td>\n",
              "      <td>0</td>\n",
              "      <td>113803</td>\n",
              "      <td>53.1000</td>\n",
              "      <td>C123</td>\n",
              "      <td>S</td>\n",
              "    </tr>\n",
              "    <tr>\n",
              "      <th>4</th>\n",
              "      <td>5</td>\n",
              "      <td>0</td>\n",
              "      <td>3</td>\n",
              "      <td>Allen, Mr. William Henry</td>\n",
              "      <td>male</td>\n",
              "      <td>35.0</td>\n",
              "      <td>0</td>\n",
              "      <td>0</td>\n",
              "      <td>373450</td>\n",
              "      <td>8.0500</td>\n",
              "      <td>NaN</td>\n",
              "      <td>S</td>\n",
              "    </tr>\n",
              "  </tbody>\n",
              "</table>\n",
              "</div>\n",
              "      <button class=\"colab-df-convert\" onclick=\"convertToInteractive('df-7f272a38-0ff3-4da1-9ed9-0b478e0b418e')\"\n",
              "              title=\"Convert this dataframe to an interactive table.\"\n",
              "              style=\"display:none;\">\n",
              "        \n",
              "  <svg xmlns=\"http://www.w3.org/2000/svg\" height=\"24px\"viewBox=\"0 0 24 24\"\n",
              "       width=\"24px\">\n",
              "    <path d=\"M0 0h24v24H0V0z\" fill=\"none\"/>\n",
              "    <path d=\"M18.56 5.44l.94 2.06.94-2.06 2.06-.94-2.06-.94-.94-2.06-.94 2.06-2.06.94zm-11 1L8.5 8.5l.94-2.06 2.06-.94-2.06-.94L8.5 2.5l-.94 2.06-2.06.94zm10 10l.94 2.06.94-2.06 2.06-.94-2.06-.94-.94-2.06-.94 2.06-2.06.94z\"/><path d=\"M17.41 7.96l-1.37-1.37c-.4-.4-.92-.59-1.43-.59-.52 0-1.04.2-1.43.59L10.3 9.45l-7.72 7.72c-.78.78-.78 2.05 0 2.83L4 21.41c.39.39.9.59 1.41.59.51 0 1.02-.2 1.41-.59l7.78-7.78 2.81-2.81c.8-.78.8-2.07 0-2.86zM5.41 20L4 18.59l7.72-7.72 1.47 1.35L5.41 20z\"/>\n",
              "  </svg>\n",
              "      </button>\n",
              "      \n",
              "  <style>\n",
              "    .colab-df-container {\n",
              "      display:flex;\n",
              "      flex-wrap:wrap;\n",
              "      gap: 12px;\n",
              "    }\n",
              "\n",
              "    .colab-df-convert {\n",
              "      background-color: #E8F0FE;\n",
              "      border: none;\n",
              "      border-radius: 50%;\n",
              "      cursor: pointer;\n",
              "      display: none;\n",
              "      fill: #1967D2;\n",
              "      height: 32px;\n",
              "      padding: 0 0 0 0;\n",
              "      width: 32px;\n",
              "    }\n",
              "\n",
              "    .colab-df-convert:hover {\n",
              "      background-color: #E2EBFA;\n",
              "      box-shadow: 0px 1px 2px rgba(60, 64, 67, 0.3), 0px 1px 3px 1px rgba(60, 64, 67, 0.15);\n",
              "      fill: #174EA6;\n",
              "    }\n",
              "\n",
              "    [theme=dark] .colab-df-convert {\n",
              "      background-color: #3B4455;\n",
              "      fill: #D2E3FC;\n",
              "    }\n",
              "\n",
              "    [theme=dark] .colab-df-convert:hover {\n",
              "      background-color: #434B5C;\n",
              "      box-shadow: 0px 1px 3px 1px rgba(0, 0, 0, 0.15);\n",
              "      filter: drop-shadow(0px 1px 2px rgba(0, 0, 0, 0.3));\n",
              "      fill: #FFFFFF;\n",
              "    }\n",
              "  </style>\n",
              "\n",
              "      <script>\n",
              "        const buttonEl =\n",
              "          document.querySelector('#df-7f272a38-0ff3-4da1-9ed9-0b478e0b418e button.colab-df-convert');\n",
              "        buttonEl.style.display =\n",
              "          google.colab.kernel.accessAllowed ? 'block' : 'none';\n",
              "\n",
              "        async function convertToInteractive(key) {\n",
              "          const element = document.querySelector('#df-7f272a38-0ff3-4da1-9ed9-0b478e0b418e');\n",
              "          const dataTable =\n",
              "            await google.colab.kernel.invokeFunction('convertToInteractive',\n",
              "                                                     [key], {});\n",
              "          if (!dataTable) return;\n",
              "\n",
              "          const docLinkHtml = 'Like what you see? Visit the ' +\n",
              "            '<a target=\"_blank\" href=https://colab.research.google.com/notebooks/data_table.ipynb>data table notebook</a>'\n",
              "            + ' to learn more about interactive tables.';\n",
              "          element.innerHTML = '';\n",
              "          dataTable['output_type'] = 'display_data';\n",
              "          await google.colab.output.renderOutput(dataTable, element);\n",
              "          const docLink = document.createElement('div');\n",
              "          docLink.innerHTML = docLinkHtml;\n",
              "          element.appendChild(docLink);\n",
              "        }\n",
              "      </script>\n",
              "    </div>\n",
              "  </div>\n",
              "  "
            ],
            "text/plain": [
              "   PassengerId  Survived  Pclass  ...     Fare Cabin  Embarked\n",
              "0            1         0       3  ...   7.2500   NaN         S\n",
              "1            2         1       1  ...  71.2833   C85         C\n",
              "2            3         1       3  ...   7.9250   NaN         S\n",
              "3            4         1       1  ...  53.1000  C123         S\n",
              "4            5         0       3  ...   8.0500   NaN         S\n",
              "\n",
              "[5 rows x 12 columns]"
            ]
          },
          "metadata": {},
          "execution_count": 5
        }
      ]
    },
    {
      "cell_type": "code",
      "source": [
        "#確認每個欄位的資料型態\n",
        "train_df.info()"
      ],
      "metadata": {
        "colab": {
          "base_uri": "https://localhost:8080/"
        },
        "id": "_q3lNwF27WOK",
        "outputId": "5627f2f1-858f-458d-8861-a8d2de71f865"
      },
      "execution_count": null,
      "outputs": [
        {
          "output_type": "stream",
          "name": "stdout",
          "text": [
            "<class 'pandas.core.frame.DataFrame'>\n",
            "RangeIndex: 891 entries, 0 to 890\n",
            "Data columns (total 12 columns):\n",
            " #   Column       Non-Null Count  Dtype  \n",
            "---  ------       --------------  -----  \n",
            " 0   PassengerId  891 non-null    int64  \n",
            " 1   Survived     891 non-null    int64  \n",
            " 2   Pclass       891 non-null    int64  \n",
            " 3   Name         891 non-null    object \n",
            " 4   Sex          891 non-null    object \n",
            " 5   Age          714 non-null    float64\n",
            " 6   SibSp        891 non-null    int64  \n",
            " 7   Parch        891 non-null    int64  \n",
            " 8   Ticket       891 non-null    object \n",
            " 9   Fare         891 non-null    float64\n",
            " 10  Cabin        204 non-null    object \n",
            " 11  Embarked     889 non-null    object \n",
            "dtypes: float64(2), int64(5), object(5)\n",
            "memory usage: 83.7+ KB\n"
          ]
        }
      ]
    },
    {
      "cell_type": "code",
      "source": [
        "#確認一下各欄位是否具有Nan值\n",
        "train_df.isna().sum()"
      ],
      "metadata": {
        "colab": {
          "base_uri": "https://localhost:8080/"
        },
        "id": "W2yQdgmK7ZdQ",
        "outputId": "eb482d7b-69bc-4ced-8e99-fd2cab3dad01"
      },
      "execution_count": null,
      "outputs": [
        {
          "output_type": "execute_result",
          "data": {
            "text/plain": [
              "PassengerId      0\n",
              "Survived         0\n",
              "Pclass           0\n",
              "Name             0\n",
              "Sex              0\n",
              "Age            177\n",
              "SibSp            0\n",
              "Parch            0\n",
              "Ticket           0\n",
              "Fare             0\n",
              "Cabin          687\n",
              "Embarked         2\n",
              "dtype: int64"
            ]
          },
          "metadata": {},
          "execution_count": 7
        }
      ]
    },
    {
      "cell_type": "code",
      "source": [
        "#查看Catogorical的相關資訊(其主要是看\"值域\"會不會\"太廣\"\",如果值域太廣,勢必要對feature做一些處理,不然大部分模型對其預測效果皆會降低)\n",
        "train_df.describe(include=['O'])"
      ],
      "metadata": {
        "colab": {
          "base_uri": "https://localhost:8080/",
          "height": 175
        },
        "id": "9JYc4Ppi7eHK",
        "outputId": "8918d8ef-2943-47c5-85dd-9f815e3bb27f"
      },
      "execution_count": null,
      "outputs": [
        {
          "output_type": "execute_result",
          "data": {
            "text/html": [
              "\n",
              "  <div id=\"df-13380530-1d29-4672-928d-631b6a5c4c9e\">\n",
              "    <div class=\"colab-df-container\">\n",
              "      <div>\n",
              "<style scoped>\n",
              "    .dataframe tbody tr th:only-of-type {\n",
              "        vertical-align: middle;\n",
              "    }\n",
              "\n",
              "    .dataframe tbody tr th {\n",
              "        vertical-align: top;\n",
              "    }\n",
              "\n",
              "    .dataframe thead th {\n",
              "        text-align: right;\n",
              "    }\n",
              "</style>\n",
              "<table border=\"1\" class=\"dataframe\">\n",
              "  <thead>\n",
              "    <tr style=\"text-align: right;\">\n",
              "      <th></th>\n",
              "      <th>Name</th>\n",
              "      <th>Sex</th>\n",
              "      <th>Ticket</th>\n",
              "      <th>Cabin</th>\n",
              "      <th>Embarked</th>\n",
              "    </tr>\n",
              "  </thead>\n",
              "  <tbody>\n",
              "    <tr>\n",
              "      <th>count</th>\n",
              "      <td>891</td>\n",
              "      <td>891</td>\n",
              "      <td>891</td>\n",
              "      <td>204</td>\n",
              "      <td>889</td>\n",
              "    </tr>\n",
              "    <tr>\n",
              "      <th>unique</th>\n",
              "      <td>891</td>\n",
              "      <td>2</td>\n",
              "      <td>681</td>\n",
              "      <td>147</td>\n",
              "      <td>3</td>\n",
              "    </tr>\n",
              "    <tr>\n",
              "      <th>top</th>\n",
              "      <td>Butt, Major. Archibald Willingham</td>\n",
              "      <td>male</td>\n",
              "      <td>1601</td>\n",
              "      <td>G6</td>\n",
              "      <td>S</td>\n",
              "    </tr>\n",
              "    <tr>\n",
              "      <th>freq</th>\n",
              "      <td>1</td>\n",
              "      <td>577</td>\n",
              "      <td>7</td>\n",
              "      <td>4</td>\n",
              "      <td>644</td>\n",
              "    </tr>\n",
              "  </tbody>\n",
              "</table>\n",
              "</div>\n",
              "      <button class=\"colab-df-convert\" onclick=\"convertToInteractive('df-13380530-1d29-4672-928d-631b6a5c4c9e')\"\n",
              "              title=\"Convert this dataframe to an interactive table.\"\n",
              "              style=\"display:none;\">\n",
              "        \n",
              "  <svg xmlns=\"http://www.w3.org/2000/svg\" height=\"24px\"viewBox=\"0 0 24 24\"\n",
              "       width=\"24px\">\n",
              "    <path d=\"M0 0h24v24H0V0z\" fill=\"none\"/>\n",
              "    <path d=\"M18.56 5.44l.94 2.06.94-2.06 2.06-.94-2.06-.94-.94-2.06-.94 2.06-2.06.94zm-11 1L8.5 8.5l.94-2.06 2.06-.94-2.06-.94L8.5 2.5l-.94 2.06-2.06.94zm10 10l.94 2.06.94-2.06 2.06-.94-2.06-.94-.94-2.06-.94 2.06-2.06.94z\"/><path d=\"M17.41 7.96l-1.37-1.37c-.4-.4-.92-.59-1.43-.59-.52 0-1.04.2-1.43.59L10.3 9.45l-7.72 7.72c-.78.78-.78 2.05 0 2.83L4 21.41c.39.39.9.59 1.41.59.51 0 1.02-.2 1.41-.59l7.78-7.78 2.81-2.81c.8-.78.8-2.07 0-2.86zM5.41 20L4 18.59l7.72-7.72 1.47 1.35L5.41 20z\"/>\n",
              "  </svg>\n",
              "      </button>\n",
              "      \n",
              "  <style>\n",
              "    .colab-df-container {\n",
              "      display:flex;\n",
              "      flex-wrap:wrap;\n",
              "      gap: 12px;\n",
              "    }\n",
              "\n",
              "    .colab-df-convert {\n",
              "      background-color: #E8F0FE;\n",
              "      border: none;\n",
              "      border-radius: 50%;\n",
              "      cursor: pointer;\n",
              "      display: none;\n",
              "      fill: #1967D2;\n",
              "      height: 32px;\n",
              "      padding: 0 0 0 0;\n",
              "      width: 32px;\n",
              "    }\n",
              "\n",
              "    .colab-df-convert:hover {\n",
              "      background-color: #E2EBFA;\n",
              "      box-shadow: 0px 1px 2px rgba(60, 64, 67, 0.3), 0px 1px 3px 1px rgba(60, 64, 67, 0.15);\n",
              "      fill: #174EA6;\n",
              "    }\n",
              "\n",
              "    [theme=dark] .colab-df-convert {\n",
              "      background-color: #3B4455;\n",
              "      fill: #D2E3FC;\n",
              "    }\n",
              "\n",
              "    [theme=dark] .colab-df-convert:hover {\n",
              "      background-color: #434B5C;\n",
              "      box-shadow: 0px 1px 3px 1px rgba(0, 0, 0, 0.15);\n",
              "      filter: drop-shadow(0px 1px 2px rgba(0, 0, 0, 0.3));\n",
              "      fill: #FFFFFF;\n",
              "    }\n",
              "  </style>\n",
              "\n",
              "      <script>\n",
              "        const buttonEl =\n",
              "          document.querySelector('#df-13380530-1d29-4672-928d-631b6a5c4c9e button.colab-df-convert');\n",
              "        buttonEl.style.display =\n",
              "          google.colab.kernel.accessAllowed ? 'block' : 'none';\n",
              "\n",
              "        async function convertToInteractive(key) {\n",
              "          const element = document.querySelector('#df-13380530-1d29-4672-928d-631b6a5c4c9e');\n",
              "          const dataTable =\n",
              "            await google.colab.kernel.invokeFunction('convertToInteractive',\n",
              "                                                     [key], {});\n",
              "          if (!dataTable) return;\n",
              "\n",
              "          const docLinkHtml = 'Like what you see? Visit the ' +\n",
              "            '<a target=\"_blank\" href=https://colab.research.google.com/notebooks/data_table.ipynb>data table notebook</a>'\n",
              "            + ' to learn more about interactive tables.';\n",
              "          element.innerHTML = '';\n",
              "          dataTable['output_type'] = 'display_data';\n",
              "          await google.colab.output.renderOutput(dataTable, element);\n",
              "          const docLink = document.createElement('div');\n",
              "          docLink.innerHTML = docLinkHtml;\n",
              "          element.appendChild(docLink);\n",
              "        }\n",
              "      </script>\n",
              "    </div>\n",
              "  </div>\n",
              "  "
            ],
            "text/plain": [
              "                                     Name   Sex Ticket Cabin Embarked\n",
              "count                                 891   891    891   204      889\n",
              "unique                                891     2    681   147        3\n",
              "top     Butt, Major. Archibald Willingham  male   1601    G6        S\n",
              "freq                                    1   577      7     4      644"
            ]
          },
          "metadata": {},
          "execution_count": 8
        }
      ]
    },
    {
      "cell_type": "code",
      "source": [
        "#Pclass看官方文檔屬於類別資料,所以也要看一下他的值域\n",
        "train_df[\"Pclass\"].unique()"
      ],
      "metadata": {
        "colab": {
          "base_uri": "https://localhost:8080/"
        },
        "id": "Oshn5ROUAqOL",
        "outputId": "c2dc62d8-4104-4835-fce9-8e5baca846cd"
      },
      "execution_count": null,
      "outputs": [
        {
          "output_type": "execute_result",
          "data": {
            "text/plain": [
              "array([3, 1, 2])"
            ]
          },
          "metadata": {},
          "execution_count": 9
        }
      ]
    },
    {
      "cell_type": "code",
      "source": [
        "#資料觀察,第一步看Categorical Data對Survived的影響(Pclass,Sex,Embarked)\n",
        "fig, ax = plt.subplots(nrows = 2,ncols = 3)\n",
        "sns.barplot(x = \"Pclass\",y = \"Survived\", data = train_df,ax = ax[0,0])\n",
        "sns.barplot(x = \"Sex\",y = \"Survived\", data = train_df, ax = ax[0,1])\n",
        "sns.barplot(x = \"Embarked\",y = \"Survived\", data = train_df,ax = ax[0,2])\n",
        "sns.barplot(x = \"SibSp\",y = \"Survived\", data = train_df,ax = ax[1,0])\n",
        "sns.barplot(x = \"Parch\",y = \"Survived\", data = train_df,ax = ax[1,1])\n",
        "#從數據初步研判,Pclass中,1等票的人有較高的存活率,女性比男性有更高的存活率,C碼頭的人存活率較高\n",
        "#兄弟姊妹較多在船上存活率較低,父母及親戚數量則無明顯趨勢"
      ],
      "metadata": {
        "colab": {
          "base_uri": "https://localhost:8080/",
          "height": 297
        },
        "id": "lCZhwv7LCLfa",
        "outputId": "17b9188d-f829-4a12-d46e-6c77ec76ec14"
      },
      "execution_count": null,
      "outputs": [
        {
          "output_type": "execute_result",
          "data": {
            "text/plain": [
              "<matplotlib.axes._subplots.AxesSubplot at 0x7f200df2b690>"
            ]
          },
          "metadata": {},
          "execution_count": 10
        },
        {
          "output_type": "display_data",
          "data": {
            "image/png": "[encoded data removed]",
            "text/plain": [
              "<Figure size 432x288 with 6 Axes>"
            ]
          },
          "metadata": {
            "needs_background": "light"
          }
        }
      ]
    },
    {
      "cell_type": "code",
      "source": [
        "#資料觀察,觀察continuous的資料分佈狀態(Age,Fare,SibSp,Parch)\n",
        "fig,ax = plt.subplots(2,2)\n",
        "sns.histplot(data = train_df,x = \"Age\",ax = ax[0,0])\n",
        "sns.histplot(data = train_df,x = \"Fare\",ax = ax[0,1])\n",
        "sns.histplot(data = train_df,x = \"SibSp\",ax = ax[1,0])\n",
        "sns.histplot(data = train_df,x = \"Parch\",ax = ax[1,1])\n",
        "#從上述狀態來看,不管是連續型隨機變數還是離散型隨機變數,其分佈都不成常態分佈,所以在觀察與Survived的相關係數時,不能使用Peason correlation\n",
        "#應該使用Spearman可以避免極值與分佈不均的影響"
      ],
      "metadata": {
        "colab": {
          "base_uri": "https://localhost:8080/",
          "height": 299
        },
        "id": "SeO3appNNsXc",
        "outputId": "72e511d9-d62e-4524-dbcc-71ac271f7312"
      },
      "execution_count": null,
      "outputs": [
        {
          "output_type": "execute_result",
          "data": {
            "text/plain": [
              "<matplotlib.axes._subplots.AxesSubplot at 0x7f200d8694d0>"
            ]
          },
          "metadata": {},
          "execution_count": 11
        },
        {
          "output_type": "display_data",
          "data": {
            "image/png": "[encoded data removed]",
            "text/plain": [
              "<Figure size 432x288 with 4 Axes>"
            ]
          },
          "metadata": {
            "needs_background": "light"
          }
        }
      ]
    },
    {
      "cell_type": "code",
      "source": [
        "#資料觀察,第二步看Numerical Data對Survived的線性關係\n",
        "corr = train_df[[\"Survived\",\"Age\",\"Fare\",\"SibSp\",\"Parch\"]].corr(method = \"spearman\")\n",
        "plt.figure(figsize = (7,5))\n",
        "g = sns.heatmap(corr, cmap = 'BrBG', annot = True)\n",
        "#從結果來觀察,似乎沒有什麼單一因素對生存率有決定性的影響,在統計意義上來講,就是沒有一項相關係數大於0.5)\n",
        "#故應該考量兩個甚至更多個因素交替作用下對Survived造成的影響。\n",
        "#但因為主要是以建模為主,故直接進行資料預處理,之後直接進入挑選模型,不在多做視覺化分析"
      ],
      "metadata": {
        "colab": {
          "base_uri": "https://localhost:8080/",
          "height": 324
        },
        "id": "U8RUW3KPQ93a",
        "outputId": "0c67643d-3e40-4c1c-ffd7-5d2869d4184c"
      },
      "execution_count": null,
      "outputs": [
        {
          "output_type": "display_data",
          "data": {
            "image/png": "[encoded data removed]",
            "text/plain": [
              "<Figure size 504x360 with 2 Axes>"
            ]
          },
          "metadata": {
            "needs_background": "light"
          }
        }
      ]
    },
    {
      "cell_type": "code",
      "execution_count": null,
      "metadata": {
        "id": "KPdKRnJ189DH"
      },
      "outputs": [],
      "source": [
        "#可以drop兩個features:tickets,cabin,因為tickets有太多重複值(太多重複值代表此項資訊可能不實,參考價值較低);cabin是因為太多Nan值(如果自己硬填,等於是猜測,會影響模型)\n",
        "train_df = train_df.drop([\"Ticket\",\"Cabin\",\"PassengerId\"],axis = 1)\n",
        "test_df = test_df.drop([\"Ticket\",\"Cabin\"],axis = 1)"
      ]
    },
    {
      "cell_type": "code",
      "execution_count": null,
      "metadata": {
        "id": "XuUshspS9tYx"
      },
      "outputs": [],
      "source": [
        "#填補缺失值(這邊直接用mode填入的原因為缺失資料較少,用眾數代表性較佳)\n",
        "train_df[\"Embarked\"] = train_df[\"Embarked\"].fillna(train_df[\"Embarked\"].mode()[0])\n",
        "test_df[\"Fare\"] = test_df[\"Fare\"].fillna(test_df[\"Fare\"].dropna().median())"
      ]
    },
    {
      "cell_type": "code",
      "execution_count": null,
      "metadata": {
        "id": "bLlaUnTn_RCX"
      },
      "outputs": [],
      "source": [
        "#將Sex轉為1跟0\n",
        "train_df[\"Sex\"] = train_df[\"Sex\"].map({\"male\":1,\"female\":0})\n",
        "test_df[\"Sex\"] = test_df[\"Sex\"].map({\"male\":1,\"female\":0})"
      ]
    },
    {
      "cell_type": "code",
      "execution_count": null,
      "metadata": {
        "id": "0SkEfbfl_VYy"
      },
      "outputs": [],
      "source": [
        "#將Name中的稱謂提取出來\n",
        "train_title = train_df[\"Name\"].map(lambda x :x.split(\",\")[1].split(\".\")[0].replace(\" \",\"\"))\n",
        "test_title = test_df[\"Name\"].map(lambda x :x.split(\",\")[1].split(\".\")[0].replace(\" \",\"\"))"
      ]
    },
    {
      "cell_type": "code",
      "source": [
        "#統計稱謂出現的次數\n",
        "collections.Counter(train_title_v1.tolist())"
      ],
      "metadata": {
        "id": "RBm_1qverBU0"
      },
      "execution_count": null,
      "outputs": []
    },
    {
      "cell_type": "code",
      "execution_count": null,
      "metadata": {
        "id": "WLpSTZuj_ZaJ"
      },
      "outputs": [],
      "source": [
        "#將稱謂做簡單分組\n",
        "train_title = [i if i == \"Mr\" or i == \"Mrs\" or i == \"Miss\" or i == \"Master\" else \"other\" for i in train_title]\n",
        "test_title = [i if i == \"Mr\" or i == \"Mrs\" or i == \"Miss\" or i == \"Master\" else \"other\" for i in test_title]"
      ]
    },
    {
      "cell_type": "code",
      "execution_count": null,
      "metadata": {
        "id": "DE9Q2H8__dNL"
      },
      "outputs": [],
      "source": [
        "#將稱謂成為train_df的特徵\n",
        "train_df[\"Title\"] = train_title\n",
        "test_df[\"Title\"] = test_title"
      ]
    },
    {
      "cell_type": "code",
      "execution_count": null,
      "metadata": {
        "id": "ZFBnpfgq_gik"
      },
      "outputs": [],
      "source": [
        "#drop掉name這個特徵\n",
        "train_df = train_df.drop([\"Name\"],axis = 1)\n",
        "test_df = test_df.drop([\"Name\"],axis = 1)"
      ]
    },
    {
      "cell_type": "code",
      "execution_count": null,
      "metadata": {
        "id": "IAQK0yP__i4F"
      },
      "outputs": [],
      "source": [
        "#將Categorical feature轉換為dummy variavles(此組為訓練線性模型,故需要一組參照組,故需要drop一個虛擬變量)\n",
        "Embarked_dummy = pd.get_dummies(train_df[\"Embarked\"],drop_first = True)\n",
        "Title_dummy = pd.get_dummies(train_df[\"Title\"],drop_first = True)\n",
        "Pclass_dummy = pd.get_dummies(train_df[\"Pclass\"],drop_first = True)\n",
        "Embarked_dummy_test = pd.get_dummies(test_df[\"Embarked\"],drop_first = True)\n",
        "Title_dummy_test = pd.get_dummies(test_df[\"Title\"],drop_first = True)\n",
        "Pclass_dummy_test = pd.get_dummies(test_df[\"Pclass\"],drop_first = True)"
      ]
    },
    {
      "cell_type": "code",
      "execution_count": null,
      "metadata": {
        "id": "aWmutdsq_uYs"
      },
      "outputs": [],
      "source": [
        "#線性模型需要加入啞變量並將原本的變量丟drop\n",
        "train_df_1 = pd.concat([train_df,Embarked_dummy,Title_dummy,Pclass_dummy],axis = 1)\n",
        "test_df_1 = pd.concat([test_df,Embarked_dummy_test,Title_dummy_test,Pclass_dummy_test],axis = 1)\n",
        "train_df_1 = train_df_1.drop([\"Embarked\",\"Title\",\"Pclass\"],axis = 1)\n",
        "test_df_1 = test_df_1.drop([\"Embarked\",\"Title\",\"Pclass\"],axis = 1)"
      ]
    },
    {
      "cell_type": "code",
      "execution_count": null,
      "metadata": {
        "colab": {
          "base_uri": "https://localhost:8080/"
        },
        "id": "YN4CSBLwAmgY",
        "outputId": "b1e851b0-52a6-4584-dd6a-8339c32f9af2"
      },
      "outputs": [
        {
          "output_type": "stream",
          "name": "stderr",
          "text": [
            "/usr/local/lib/python3.7/dist-packages/sklearn/utils/validation.py:1679: FutureWarning: Feature names only support names that are all strings. Got feature names with dtypes: ['int', 'str']. An error will be raised in 1.2.\n",
            "  FutureWarning,\n",
            "/usr/local/lib/python3.7/dist-packages/sklearn/utils/validation.py:1679: FutureWarning: Feature names only support names that are all strings. Got feature names with dtypes: ['int', 'str']. An error will be raised in 1.2.\n",
            "  FutureWarning,\n"
          ]
        }
      ],
      "source": [
        "#填補Age的na值\n",
        "train_copy = train_df_1.copy()\n",
        "imp = IterativeImputer(random_state=0)\n",
        "tmp_df = imp.fit_transform(train_copy)\n",
        "newAge = tmp_df[:,3]\n",
        "\n",
        "test_copy = test_df_1.copy()\n",
        "tmp_test = imp.fit_transform(test_copy)\n",
        "newAgeTest = tmp_test[:,2]"
      ]
    },
    {
      "cell_type": "code",
      "execution_count": null,
      "metadata": {
        "id": "FyqFOSQRApYV"
      },
      "outputs": [],
      "source": [
        "#將新的Age feature加入train_df並將舊的age drop\n",
        "train_df[\"newAge\"] = pd.Series(newAge)\n",
        "train_df_1[\"newAge\"] = pd.Series(newAge)\n",
        "test_df[\"newAge\"] = pd.Series(newAge)\n",
        "test_df_1[\"newAge\"] = pd.Series(newAge)\n",
        "\n",
        "train_df = train_df.drop([\"Age\"],axis = 1)\n",
        "train_df_1 = train_df_1.drop([\"Age\"],axis = 1)\n",
        "test_df = test_df.drop([\"Age\"],axis = 1)\n",
        "test_df_1 = test_df_1.drop([\"Age\"],axis = 1)"
      ]
    },
    {
      "cell_type": "code",
      "execution_count": null,
      "metadata": {
        "id": "xZUoNHFZAsZT"
      },
      "outputs": [],
      "source": [
        "#標準化連續型數值資料\n",
        "train_df[[\"Fare\",\"newAge\"]] = StandardScaler().fit_transform(train_df[[\"Fare\", \"newAge\"]])\n",
        "train_df_1[[\"Fare\",\"newAge\"]] = StandardScaler().fit_transform(train_df_1[[\"Fare\", \"newAge\"]])\n",
        "test_df[[\"Fare\",\"newAge\"]] = StandardScaler().fit_transform(test_df[[\"Fare\",\"newAge\"]])\n",
        "test_df_1[[\"Fare\",\"newAge\"]] = StandardScaler().fit_transform(test_df_1[[\"Fare\",\"newAge\"]])"
      ]
    },
    {
      "cell_type": "code",
      "execution_count": null,
      "metadata": {
        "id": "BUlAHNgwAxSi"
      },
      "outputs": [],
      "source": [
        "#把父母小孩跟兄弟姊妹這兩個相似特徵結合為一個特徵(combine the parch and sibsp)\n",
        "train_df[\"familySize\"] = train_df[\"Parch\"] + train_df[\"SibSp\"]\n",
        "train_df_1[\"familySize\"] = train_df_1[\"Parch\"] + train_df_1[\"SibSp\"]\n",
        "test_df[\"familySize\"] = test_df[\"Parch\"] + test_df[\"SibSp\"]\n",
        "test_df_1[\"familySize\"] = test_df_1[\"Parch\"] + test_df_1[\"SibSp\"]"
      ]
    },
    {
      "cell_type": "code",
      "execution_count": null,
      "metadata": {
        "id": "UxL6UlURAx_C"
      },
      "outputs": [],
      "source": [
        "#創造一個新的特徵,是否有家人,因為familySize這個特徵屬於離散型數值資料,不能將其標準化,如果直接做hot encoding這樣會製造太多啞變量\n",
        "#有可能會導致模型的bias或是拉長找到最小損失函數的時間\n",
        "train_df[\"Alone\"] = pd.Series([1 if i > 0 else 0 for i in train_df[\"familySize\"]])\n",
        "train_df_1[\"Alone\"] = pd.Series([1 if i > 0 else 0 for i in train_df_1[\"familySize\"]])\n",
        "test_df[\"Alone\"] = pd.Series([1 if i > 0 else 0 for i in test_df[\"familySize\"]])\n",
        "test_df_1[\"Alone\"] = pd.Series([1 if i > 0 else 0 for i in test_df_1[\"familySize\"]])"
      ]
    },
    {
      "cell_type": "code",
      "execution_count": null,
      "metadata": {
        "id": "42YVOR7fA01n"
      },
      "outputs": [],
      "source": [
        "#把parch,sibsp,familySize這三個特徵drop掉\n",
        "train_df = train_df.drop([\"Parch\",\"SibSp\",\"familySize\"],axis = 1)\n",
        "train_df_1 = train_df_1.drop([\"Parch\",\"SibSp\",\"familySize\"],axis = 1)\n",
        "test_df = test_df.drop([\"Parch\",\"SibSp\",\"familySize\"],axis = 1)\n",
        "test_df_1 = test_df_1.drop([\"Parch\",\"SibSp\",\"familySize\"],axis = 1)"
      ]
    },
    {
      "cell_type": "code",
      "execution_count": null,
      "metadata": {
        "id": "4_ZL8h44A5ZL"
      },
      "outputs": [],
      "source": [
        "#非線性組,需要將categorical data值域轉為數值\n",
        "train_df[\"Embarked\"] = train_df[\"Embarked\"].map({\"S\":0,\"C\":1,\"Q\":2})\n",
        "train_df[\"Title\"] = train_df[\"Title\"].map({\"Mr\":0,\"Mrs\":1,\"Miss\":2,\"Master\":3,\"other\":4})\n",
        "test_df[\"Embarked\"] = test_df[\"Embarked\"].map({\"S\":0,\"C\":1,\"Q\":2})\n",
        "test_df[\"Title\"] = test_df[\"Title\"].map({\"Mr\":0,\"Mrs\":1,\"Miss\":2,\"Master\":3,\"other\":4})"
      ]
    },
    {
      "cell_type": "code",
      "execution_count": null,
      "metadata": {
        "colab": {
          "base_uri": "https://localhost:8080/"
        },
        "id": "03LGu8W_A79k",
        "outputId": "ca650cde-d8cc-41de-fdfc-fd8e455ea94f"
      },
      "outputs": [
        {
          "output_type": "execute_result",
          "data": {
            "text/plain": [
              "((891, 7), (418, 7))"
            ]
          },
          "metadata": {},
          "execution_count": 29
        }
      ],
      "source": [
        "#開始建模,把資料分成訓練資料及預測資料\n",
        "#線性組\n",
        "X_train_1 = train_df_1.drop(\"Survived\", axis=1)\n",
        "Y_train = train_df_1[\"Survived\"]\n",
        "X_test_1  = test_df_1.drop([\"PassengerId\"],axis = 1).copy()\n",
        "\n",
        "#非線性組\n",
        "X_train = train_df.drop(\"Survived\",axis = 1)\n",
        "X_test = test_df.drop([\"PassengerId\"],axis = 1)\n",
        "\n",
        "#設置cross validation的條件,下面每個模型的隨機種子都必須設置為0,避免每次訓練出來的acc不一致\n",
        "k_fold = KFold(n_splits=10, shuffle=True, random_state=0)\n",
        "X_train.shape,X_test.shape"
      ]
    },
    {
      "cell_type": "code",
      "execution_count": null,
      "metadata": {
        "colab": {
          "base_uri": "https://localhost:8080/"
        },
        "id": "xRoD0HIYA-ls",
        "outputId": "4d7356b4-4c38-4852-ea64-61a50acbcf93"
      },
      "outputs": [
        {
          "output_type": "execute_result",
          "data": {
            "text/plain": [
              "81.70536828963796"
            ]
          },
          "metadata": {},
          "execution_count": 30
        }
      ],
      "source": [
        "# Logistic Regression(Linear)\n",
        "logreg = LogisticRegression(random_state = 0)\n",
        "score = cross_val_score(logreg, X_train_1, Y_train, cv=k_fold, n_jobs=-1, scoring='accuracy')\n",
        "score.mean()*100"
      ]
    },
    {
      "cell_type": "code",
      "execution_count": null,
      "metadata": {
        "colab": {
          "base_uri": "https://localhost:8080/"
        },
        "id": "KGZV8DBOFP2I",
        "outputId": "287cc39b-10ba-49c9-a7ef-9cde2a2815e3"
      },
      "outputs": [
        {
          "output_type": "execute_result",
          "data": {
            "text/plain": [
              "81.59300873907614"
            ]
          },
          "metadata": {},
          "execution_count": 31
        }
      ],
      "source": [
        "# Support Vector Machines(Linear)\n",
        "svc = SVC(random_state = 0)\n",
        "score = cross_val_score(svc,X_train_1,Y_train,cv=k_fold,n_jobs = -1,scoring = \"accuracy\")\n",
        "score.mean()*100"
      ]
    },
    {
      "cell_type": "code",
      "execution_count": null,
      "metadata": {
        "colab": {
          "base_uri": "https://localhost:8080/"
        },
        "id": "Qx_gEEN0GKx-",
        "outputId": "a05dc385-fc96-4820-92fa-6e1607473b92"
      },
      "outputs": [
        {
          "output_type": "execute_result",
          "data": {
            "text/plain": [
              "80.35830212234707"
            ]
          },
          "metadata": {},
          "execution_count": 32
        }
      ],
      "source": [
        "#KNN(non-Linear)\n",
        "knn = KNeighborsClassifier(n_neighbors = 3)\n",
        "score = cross_val_score(knn,X_train,Y_train,cv=k_fold,n_jobs = -1,scoring = \"accuracy\")\n",
        "score.mean()*100"
      ]
    },
    {
      "cell_type": "code",
      "execution_count": null,
      "metadata": {
        "colab": {
          "base_uri": "https://localhost:8080/"
        },
        "id": "FApqRvrNMHwh",
        "outputId": "e9330518-2303-46d5-afbc-e50b68c08778"
      },
      "outputs": [
        {
          "output_type": "execute_result",
          "data": {
            "text/plain": [
              "79.01373283395756"
            ]
          },
          "metadata": {},
          "execution_count": 33
        }
      ],
      "source": [
        "# Gaussian Naive Bayes(non-Linear)\n",
        "gaussian = GaussianNB()\n",
        "score = cross_val_score(gaussian,X_train,Y_train,cv=k_fold,n_jobs = -1,scoring = \"accuracy\")\n",
        "score.mean()*100"
      ]
    },
    {
      "cell_type": "code",
      "execution_count": null,
      "metadata": {
        "colab": {
          "base_uri": "https://localhost:8080/"
        },
        "id": "EmioeLRkMKhd",
        "outputId": "06eeff72-6141-412c-f357-ea34959ecaf0"
      },
      "outputs": [
        {
          "output_type": "execute_result",
          "data": {
            "text/plain": [
              "74.74157303370787"
            ]
          },
          "metadata": {},
          "execution_count": 34
        }
      ],
      "source": [
        "# Perceptron(Linear)\n",
        "perceptron = Perceptron(random_state = 0)\n",
        "score = cross_val_score(perceptron,X_train_1,Y_train,cv=k_fold,n_jobs = -1,scoring = \"accuracy\")\n",
        "score.mean()*100"
      ]
    },
    {
      "cell_type": "code",
      "execution_count": null,
      "metadata": {
        "colab": {
          "base_uri": "https://localhost:8080/"
        },
        "id": "hg_kCx5BMNiC",
        "outputId": "a4663e25-1d0d-4d16-f96f-f570ec3bdbd1"
      },
      "outputs": [
        {
          "output_type": "execute_result",
          "data": {
            "text/plain": [
              "82.48938826466917"
            ]
          },
          "metadata": {},
          "execution_count": 35
        }
      ],
      "source": [
        "# Linear SVC(Linear)\n",
        "linear_svc = LinearSVC(random_state = 0)\n",
        "score = cross_val_score(linear_svc,X_train_1,Y_train,cv=k_fold,n_jobs = -1,scoring = \"accuracy\")\n",
        "score.mean()*100"
      ]
    },
    {
      "cell_type": "code",
      "execution_count": null,
      "metadata": {
        "colab": {
          "base_uri": "https://localhost:8080/"
        },
        "id": "_tge_qpfMQXf",
        "outputId": "e503c0cd-f065-47cd-b265-9e25203196da"
      },
      "outputs": [
        {
          "output_type": "execute_result",
          "data": {
            "text/plain": [
              "79.12359550561798"
            ]
          },
          "metadata": {},
          "execution_count": 36
        }
      ],
      "source": [
        "# Stochastic Gradient Descent(Linear)\n",
        "sgd = SGDClassifier(random_state = 0)\n",
        "score = cross_val_score(sgd,X_train_1,Y_train,cv=k_fold,n_jobs = -1,scoring = \"accuracy\")\n",
        "score.mean()*100"
      ]
    },
    {
      "cell_type": "code",
      "execution_count": null,
      "metadata": {
        "colab": {
          "base_uri": "https://localhost:8080/"
        },
        "id": "ns-9VRQSMjgv",
        "outputId": "d3bf2596-927c-490f-e8fa-c1b9072b0597"
      },
      "outputs": [
        {
          "output_type": "execute_result",
          "data": {
            "text/plain": [
              "81.374531835206"
            ]
          },
          "metadata": {},
          "execution_count": 37
        }
      ],
      "source": [
        "# Decision Tree(non-Linear)\n",
        "decision_tree = DecisionTreeClassifier(random_state = 0)\n",
        "score = cross_val_score(decision_tree,X_train,Y_train,cv=k_fold,n_jobs = -1,scoring = \"accuracy\")\n",
        "score.mean()*100"
      ]
    },
    {
      "cell_type": "code",
      "execution_count": null,
      "metadata": {
        "colab": {
          "base_uri": "https://localhost:8080/"
        },
        "id": "j9KsTj-pMkEq",
        "outputId": "2fd272ec-daef-484e-e5e6-66955ea5ca53"
      },
      "outputs": [
        {
          "output_type": "execute_result",
          "data": {
            "text/plain": [
              "81.4769038701623"
            ]
          },
          "metadata": {},
          "execution_count": 38
        }
      ],
      "source": [
        "# Random Forest(non-Linear)\n",
        "random_forest = RandomForestClassifier(n_estimators=100,random_state = 0)\n",
        "score = cross_val_score(random_forest,X_train,Y_train,cv=k_fold,n_jobs = -1,scoring = \"accuracy\")\n",
        "score.mean()*100"
      ]
    },
    {
      "cell_type": "code",
      "execution_count": null,
      "metadata": {
        "colab": {
          "base_uri": "https://localhost:8080/"
        },
        "id": "1koM2p-vMmSf",
        "outputId": "590b32fa-460b-4b4b-ae7d-226442e2f4e4"
      },
      "outputs": [
        {
          "output_type": "execute_result",
          "data": {
            "text/plain": [
              "82.71660424469414"
            ]
          },
          "metadata": {},
          "execution_count": 39
        }
      ],
      "source": [
        "#GradientBoostingClassifier\n",
        "GBC = GradientBoostingClassifier(random_state = 0)\n",
        "score = cross_val_score(GBC,X_train,Y_train,cv = k_fold,n_jobs = -1,scoring = \"accuracy\")\n",
        "score.mean()*100"
      ]
    },
    {
      "cell_type": "code",
      "execution_count": null,
      "metadata": {
        "colab": {
          "base_uri": "https://localhost:8080/"
        },
        "id": "0eYki4uQMque",
        "outputId": "ab27d2d8-e206-4c8b-f5a3-4c63540f649b"
      },
      "outputs": [
        {
          "output_type": "execute_result",
          "data": {
            "text/plain": [
              "81.25842696629213"
            ]
          },
          "metadata": {},
          "execution_count": 40
        }
      ],
      "source": [
        "#XGBoost\n",
        "XGB = XGBClassifier(random_state = 0)\n",
        "score = cross_val_score(XGB,X_train,Y_train,cv = k_fold,n_jobs = -1,scoring = \"accuracy\")\n",
        "score.mean()*100"
      ]
    },
    {
      "cell_type": "code",
      "execution_count": null,
      "metadata": {
        "id": "PpD7U75CNQTu",
        "colab": {
          "base_uri": "https://localhost:8080/"
        },
        "outputId": "c0347f73-7394-4df2-b0a1-83cd8ec3b64d"
      },
      "outputs": [
        {
          "output_type": "stream",
          "name": "stdout",
          "text": [
            "Fitting 10 folds for each of 100 candidates, totalling 1000 fits\n"
          ]
        },
        {
          "output_type": "execute_result",
          "data": {
            "text/plain": [
              "RandomizedSearchCV(cv=10, estimator=GradientBoostingClassifier(random_state=0),\n",
              "                   n_iter=100, n_jobs=-1,\n",
              "                   param_distributions={'learning_rate': array([0.01, 0.02, 0.03, 0.04, 0.05, 0.06, 0.07, 0.08, 0.09, 0.1 , 0.11,\n",
              "       0.12, 0.13, 0.14, 0.15, 0.16, 0.17, 0.18, 0.19, 0.2 , 0.21, 0.22,\n",
              "       0.23, 0.24, 0.25, 0.26, 0.27, 0.28, 0.29, 0.3 , 0.31, 0.32, 0.33,\n",
              "       0.34, 0.35, 0.36, 0.37, 0.38, 0.39, 0.4 , 0.41, 0.42, 0...\n",
              "                                        'max_depth': [1, 11, 21, 31, 41, 51, 61,\n",
              "                                                      71, 81, 91, 101, 111, 121,\n",
              "                                                      131, 141, 151, 161, 171,\n",
              "                                                      181, 191],\n",
              "                                        'max_features': [1, 2, 3, 4, 5, 6, 7],\n",
              "                                        'min_samples_leaf': array([0.1, 0.2, 0.3, 0.4, 0.5]),\n",
              "                                        'min_samples_split': array([0.1, 0.2, 0.3, 0.4, 0.5, 0.6, 0.7, 0.8, 0.9, 1. ]),\n",
              "                                        'n_estimators': [50, 100, 150, 200, 250,\n",
              "                                                         300, 350, 400, 450,\n",
              "                                                         500, 550, 600, 650,\n",
              "                                                         700, 750, 800, 850,\n",
              "                                                         900, 950, 1000]},\n",
              "                   random_state=0, verbose=2)"
            ]
          },
          "metadata": {},
          "execution_count": 41
        }
      ],
      "source": [
        "#看起來GBC對模型預測能力最佳,所以針對GBC進行調參\n",
        "#先用random search 方法找到一個可能最佳解的範圍\n",
        "random_search = {\"learning_rate\":np.linspace(0.01,0.5,50),\n",
        "        \"n_estimators\":[i for i in range(50,1001,50)],\n",
        "         \"max_depth\":[i for i in range(1,201,10)],\n",
        "         \"min_samples_split\":np.linspace(0.1, 1.0, 10, endpoint=True),\n",
        "         \"min_samples_leaf\":np.linspace(0.1, 0.5, 5,endpoint=True),\n",
        "         \"max_features\":[i for i in range(1,X_train.shape[1]+1)]}\n",
        "\n",
        "Random_GBC = RandomizedSearchCV(estimator = GBC, param_distributions = random_search, n_iter = 100,\n",
        "cv = 10, verbose=2, random_state=0, n_jobs = -1)\n",
        "Random_GBC.fit(X_train,Y_train)"
      ]
    },
    {
      "cell_type": "code",
      "source": [
        "#觀察最佳解的參數,將利用這些參數來縮小範圍找到critical point\n",
        "bestParameter = Random_GBC.best_params_\n",
        "bestParameter = {'learning_rate': [0.39],\n",
        " 'max_depth': [61],\n",
        " 'max_features': [4],\n",
        " 'min_samples_leaf': [0.1],\n",
        " 'min_samples_split': [0.2],\n",
        " 'n_estimators': [250]}"
      ],
      "metadata": {
        "id": "XmoMFxYMu9jJ"
      },
      "execution_count": null,
      "outputs": []
    },
    {
      "cell_type": "code",
      "source": [
        "#制定grid parameter的範圍\n",
        "grid_search = {\"learning_rate\":np.linspace(0.19,0.59,41),\n",
        "        \"n_estimators\": [int(i)for i in np.linspace(230,270,41)],\n",
        "         \"max_depth\": [int(i)for i in np.linspace(41,81,41)],\n",
        "         \"min_samples_split\":np.linspace(0.1,0.3,21),\n",
        "         \"min_samples_leaf\":np.linspace(0.05,0.15,11),\n",
        "         \"max_features\": [int(i)for i in np.linspace(3,5,3)]}"
      ],
      "metadata": {
        "id": "pHfiGUnB9oe4"
      },
      "execution_count": null,
      "outputs": []
    },
    {
      "cell_type": "code",
      "source": [
        "#用grid search找尋最佳參數\n",
        "for key,value in grid_search.items():\n",
        "  bestParameter[key] = value\n",
        "  Grid_GBC = GridSearchCV(estimator = GBC, param_grid = bestParameter,cv = 10, verbose=2, n_jobs = -1)\n",
        "  Grid_GBC.fit(X_train,Y_train)\n",
        "  for key,value in Grid_GBC.best_params_.items():\n",
        "   Grid_GBC.best_params_[key] = [value]\n",
        "  bestParameter = Grid_GBC.best_params_\n",
        "Grid_GBC.best_params_"
      ],
      "metadata": {
        "colab": {
          "base_uri": "https://localhost:8080/"
        },
        "id": "ybLGDn9eHau-",
        "outputId": "d9984892-63a4-4a4e-dc89-500503c362b5"
      },
      "execution_count": null,
      "outputs": [
        {
          "output_type": "stream",
          "name": "stdout",
          "text": [
            "Fitting 10 folds for each of 41 candidates, totalling 410 fits\n",
            "Fitting 10 folds for each of 41 candidates, totalling 410 fits\n",
            "Fitting 10 folds for each of 41 candidates, totalling 410 fits\n",
            "Fitting 10 folds for each of 21 candidates, totalling 210 fits\n",
            "Fitting 10 folds for each of 11 candidates, totalling 110 fits\n",
            "Fitting 10 folds for each of 3 candidates, totalling 30 fits\n"
          ]
        },
        {
          "output_type": "execute_result",
          "data": {
            "text/plain": [
              "{'learning_rate': [0.59],\n",
              " 'max_depth': [41],\n",
              " 'max_features': [4],\n",
              " 'min_samples_leaf': [0.09999999999999999],\n",
              " 'min_samples_split': [0.1],\n",
              " 'n_estimators': [255]}"
            ]
          },
          "metadata": {},
          "execution_count": 44
        }
      ]
    },
    {
      "cell_type": "code",
      "source": [
        "#查看最佳參數訓練出來的分數\n",
        "Grid_GBC.score(X_train,Y_train)"
      ],
      "metadata": {
        "colab": {
          "base_uri": "https://localhost:8080/"
        },
        "id": "yoqa_UarQXBc",
        "outputId": "8da5735b-a7cf-4773-ff5f-084df989fcdf"
      },
      "execution_count": null,
      "outputs": [
        {
          "output_type": "execute_result",
          "data": {
            "text/plain": [
              "0.8967452300785634"
            ]
          },
          "metadata": {},
          "execution_count": 48
        }
      ]
    },
    {
      "cell_type": "code",
      "source": [
        "#把預測結果做成df並存成csv檔案\n",
        "Prediction = Grid_GBC.predict(X_test)\n",
        "submission = pd.DataFrame({\"PassengerId\":test_df[\"PassengerId\"],\"Survived\":Prediction})\n",
        "submission.to_csv(\"submission.csv\",index = False)"
      ],
      "metadata": {
        "id": "BSthpB0KTG4U"
      },
      "execution_count": null,
      "outputs": []
    },
    {
      "cell_type": "code",
      "execution_count": null,
      "metadata": {
        "id": "Pju-lo9ngvCf"
      },
      "outputs": [],
      "source": [
        "#保存模型\n",
        "file_name = \"Grid_GBC.pkl\"\n",
        "\n",
        "# save\n",
        "pickle.dump(Grid_GBC, open(file_name, \"wb\"))\n",
        "\n",
        "# load\n",
        "Grid_GBC_loaded = pickle.load(open(file_name, \"rb\"))"
      ]
    }
  ],
  "metadata": {
    "colab": {
      "collapsed_sections": [],
      "name": "Titanic.ipynb",
      "provenance": [],
      "authorship_tag": "ABX9TyP1wk3LHDKmPmXa9hlztQbG",
      "include_colab_link": true
    },
    "kernelspec": {
      "display_name": "Python 3",
      "name": "python3"
    },
    "language_info": {
      "name": "python"
    }
  },
  "nbformat": 4,
  "nbformat_minor": 0
}